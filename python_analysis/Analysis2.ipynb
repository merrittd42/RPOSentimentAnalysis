{
 "cells": [
  {
   "cell_type": "markdown",
   "metadata": {},
   "source": []
  },
  {
   "cell_type": "code",
   "execution_count": 3,
   "metadata": {
    "collapsed": true
   },
   "outputs": [],
   "source": [
    "import pandas as pd\n",
    "import numpy as np\n",
    "import re\n",
    "from sklearn.feature_extraction.text import CountVectorizer\n",
    "from sklearn.feature_extraction.text import TfidfTransformer\n",
    "from sklearn.model_selection import train_test_split\n",
    "from sklearn.metrics import classification_report, confusion_matrix\n",
    "from sklearn.metrics import roc_curve, auc\n",
    "from nltk.corpus import stopwords\n",
    "from nltk.tokenize import word_tokenize\n",
    "import matplotlib.pyplot as plt"
   ]
  },
  {
   "cell_type": "markdown",
   "metadata": {},
   "source": [
    "# Helper Functions"
   ]
  },
  {
   "cell_type": "code",
   "execution_count": 15,
   "metadata": {
    "collapsed": true
   },
   "outputs": [],
   "source": [
    "def clean_tweets(df):\n",
    "    temp_df = df.copy()\n",
    "    \n",
    "    #This code removes all links, mentions, numbers and rows mentioning FUNKO POPS\n",
    "    temp_df.drop_duplicates(['SentimentText'], keep='first')\n",
    "    \n",
    "                \n",
    "    temp_df = temp_df[temp_df.SentimentText.str.contains(\"Funko\") == False]\n",
    "    temp_df = temp_df[temp_df.SentimentText.str.contains(\"funko\") == False]\n",
    "    temp_df = temp_df[temp_df.SentimentText.str.contains(\"For a chance to #WIN\") == False]\n",
    "    temp_df = temp_df[temp_df.SentimentText.str.contains(\"For a chance to WIN\") == False]\n",
    "    temp_df = temp_df[temp_df.SentimentText.str.contains(\"for a chance to win\") == False]\n",
    "    temp_df = temp_df[temp_df.SentimentText.str.contains(\"for a chance to WIN\") == False]\n",
    "    temp_df = temp_df[temp_df.SentimentText.str.contains(\"for your chance to win\") == False]\n",
    "    temp_df = temp_df[temp_df.SentimentText.str.contains(\"For your chance to WIN\") == False]\n",
    "    temp_df.SentimentText = [re.sub(r\"https?:\\/\\/.*\\/[a-zA-Z0-9]*\", \"\", w) for w in temp_df.SentimentText]\n",
    "    temp_df.SentimentText = [re.sub(r\"https?:\\/\\/.*\\/[a-zA-Z0-9]*\", \"\", w) for w in temp_df.SentimentText]\n",
    "    temp_df.SentimentText = [re.sub(r\"&amp;quot;|&amp;amp'\", \"\", w) for w in temp_df.SentimentText]\n",
    "    temp_df.SentimentText = [re.sub(r\"@[a-zA-Z0-9]*\", \"\", w) for w in temp_df.SentimentText]\n",
    "    temp_df.SentimentText = [re.sub(r\"\\$[a-zA-Z0-9]*\", \"\", w) for w in temp_df.SentimentText]\n",
    "    temp_df.SentimentText = [re.sub(r\"[0-9]*\", \"\", w) for w in temp_df.SentimentText]\n",
    "    temp_df.SentimentText = [w.strip() for w in temp_df.SentimentText]\n",
    "    \n",
    "    temp_df.SentimentText = temp_df.SentimentText.str.replace('[^\\w\\s]','')\n",
    "    import nltk\n",
    "    nltk.download('stopwords')\n",
    "    nltk.download('punkt')\n",
    "    stop_words = set(stopwords.words('english'))\n",
    "    stop_words.update(['RT', 'https', 'http', 'amp', 's', 'M', 'tcoRPFRWTeiPi', 'nt'])\n",
    "    for index, row in temp_df.iterrows():\n",
    "        tempStr = row['SentimentText']\n",
    "        tweetStr = str(tempStr)\n",
    "        word_tokens = word_tokenize(tweetStr)\n",
    "        newStr = \"\"\n",
    "        for w in word_tokens:\n",
    "            if w not in stop_words:\n",
    "                newStr += w\n",
    "                newStr += \" \"\n",
    "        row['SentimentText'] = newStr\n",
    "        \n",
    "    return temp_df"
   ]
  },
  {
   "cell_type": "code",
   "execution_count": 16,
   "metadata": {
    "collapsed": true
   },
   "outputs": [],
   "source": [
    "def clean_tweets2(df):\n",
    "    temp_df = df.copy()\n",
    "    \n",
    "    #This code removes all links, mentions, numbers and rows mentioning FUNKO POPS\n",
    "    temp_df.drop_duplicates(['tweet'], keep='first')\n",
    "    temp_df = temp_df[temp_df.tweet.str.contains(\"Funko\") == False]\n",
    "    temp_df = temp_df[temp_df.tweet.str.contains(\"funko\") == False]\n",
    "    temp_df = temp_df[temp_df.tweet.str.contains(\"For a chance to #WIN\") == False]\n",
    "    temp_df = temp_df[temp_df.tweet.str.contains(\"For a chance to WIN\") == False]\n",
    "    temp_df = temp_df[temp_df.tweet.str.contains(\"for a chance to win\") == False]\n",
    "    temp_df = temp_df[temp_df.tweet.str.contains(\"for a chance to WIN\") == False]\n",
    "    temp_df = temp_df[temp_df.tweet.str.contains(\"for your chance to win\") == False]\n",
    "    temp_df = temp_df[temp_df.tweet.str.contains(\"For your chance to WIN\") == False]\n",
    "    temp_df.tweet = [re.sub(r\"https?:\\/\\/.*\\/[a-zA-Z0-9]*\", \"\", w) for w in temp_df.tweet]\n",
    "    temp_df.tweet = [re.sub(r\"https?:\\/\\/.*\\/[a-zA-Z0-9]*\", \"\", w) for w in temp_df.tweet]\n",
    "    temp_df.tweet = [re.sub(r\"&amp;quot;|&amp;amp'\", \"\", w) for w in temp_df.tweet]\n",
    "    temp_df.tweet = [re.sub(r\"@[a-zA-Z0-9]*\", \"\", w) for w in temp_df.tweet]\n",
    "    temp_df.tweet = [re.sub(r\"\\$[a-zA-Z0-9]*\", \"\", w) for w in temp_df.tweet]\n",
    "    temp_df.tweet = [re.sub(r\"[0-9]*\", \"\", w) for w in temp_df.tweet]\n",
    "    temp_df.tweet = [re.sub(r\"RT\", \"\", w) for w in temp_df.tweet]\n",
    "    temp_df.tweet = [w.strip() for w in temp_df.tweet]\n",
    "    \n",
    "    temp_df.tweet = temp_df.tweet.str.replace('[^\\w\\s]','')\n",
    "        \n",
    "    return temp_df"
   ]
  },
  {
   "cell_type": "markdown",
   "metadata": {},
   "source": [
    "# Analysis"
   ]
  },
  {
   "cell_type": "markdown",
   "metadata": {},
   "source": [
    "## Creating DF and Cleaning Tweets"
   ]
  },
  {
   "cell_type": "code",
   "execution_count": 13,
   "metadata": {},
   "outputs": [
    {
     "name": "stderr",
     "output_type": "stream",
     "text": [
      "/Users/mollyrandles/anaconda3/lib/python3.6/site-packages/IPython/core/interactiveshell.py:2698: DtypeWarning: Columns (4,5,6) have mixed types. Specify dtype option on import or set low_memory=False.\n",
      "  interactivity=interactivity, compiler=compiler, result=result)\n"
     ]
    }
   ],
   "source": [
    "# skips problem lines for now\n",
    "df = pd.read_csv(\"Sentiment_Analysis_Dataset.csv\",error_bad_lines=False, encoding='latin')"
   ]
  },
  {
   "cell_type": "code",
   "execution_count": 17,
   "metadata": {},
   "outputs": [
    {
     "name": "stdout",
     "output_type": "stream",
     "text": [
      "[nltk_data] Downloading package stopwords to\n",
      "[nltk_data]     /Users/mollyrandles/nltk_data...\n",
      "[nltk_data]   Unzipping corpora/stopwords.zip.\n",
      "[nltk_data] Downloading package punkt to\n",
      "[nltk_data]     /Users/mollyrandles/nltk_data...\n",
      "[nltk_data]   Package punkt is already up-to-date!\n"
     ]
    }
   ],
   "source": [
    "clean_df = clean_tweets(df)"
   ]
  },
  {
   "cell_type": "code",
   "execution_count": 18,
   "metadata": {
    "collapsed": true
   },
   "outputs": [],
   "source": [
    "X_train, X_test, y_train, y_test = train_test_split(clean_df.SentimentText, clean_df.Sentiment, test_size=0.20, random_state=42)"
   ]
  },
  {
   "cell_type": "code",
   "execution_count": 19,
   "metadata": {
    "collapsed": true
   },
   "outputs": [],
   "source": [
    "vectorizer_train = CountVectorizer()\n",
    "X_train = vectorizer_train.fit_transform(X_train)"
   ]
  },
  {
   "cell_type": "code",
   "execution_count": 20,
   "metadata": {
    "collapsed": true
   },
   "outputs": [],
   "source": [
    "tf_transformer = TfidfTransformer(use_idf=False).fit(X_train)\n",
    "X_train_tf = tf_transformer.transform(X_train)"
   ]
  },
  {
   "cell_type": "code",
   "execution_count": 21,
   "metadata": {
    "collapsed": true
   },
   "outputs": [],
   "source": [
    "vectorizer_test = CountVectorizer(vocabulary=vectorizer_train.vocabulary_)\n",
    "X_test = vectorizer_test.transform(X_test)"
   ]
  },
  {
   "cell_type": "markdown",
   "metadata": {},
   "source": [
    "## Multinomial Naive Bayes"
   ]
  },
  {
   "cell_type": "code",
   "execution_count": 9,
   "metadata": {
    "collapsed": true
   },
   "outputs": [],
   "source": [
    "from sklearn.naive_bayes import MultinomialNB"
   ]
  },
  {
   "cell_type": "code",
   "execution_count": 10,
   "metadata": {
    "collapsed": true
   },
   "outputs": [],
   "source": [
    "clf = MultinomialNB()\n",
    "fit = clf.fit(X_train_tf,y_train)\n",
    "y_pred = clf.predict(X_test)"
   ]
  },
  {
   "cell_type": "markdown",
   "metadata": {},
   "source": [
    "### Metrics"
   ]
  },
  {
   "cell_type": "code",
   "execution_count": 11,
   "metadata": {},
   "outputs": [
    {
     "name": "stdout",
     "output_type": "stream",
     "text": [
      "[[128251  29167]\n",
      " [ 39588 118713]]\n"
     ]
    }
   ],
   "source": [
    "print(confusion_matrix(y_test,y_pred))"
   ]
  },
  {
   "cell_type": "code",
   "execution_count": 12,
   "metadata": {},
   "outputs": [
    {
     "name": "stdout",
     "output_type": "stream",
     "text": [
      "             precision    recall  f1-score   support\n",
      "\n",
      "          0       0.76      0.81      0.79    157418\n",
      "          1       0.80      0.75      0.78    158301\n",
      "\n",
      "avg / total       0.78      0.78      0.78    315719\n",
      "\n"
     ]
    }
   ],
   "source": [
    "print(classification_report(y_test,y_pred))"
   ]
  },
  {
   "cell_type": "code",
   "execution_count": 13,
   "metadata": {
    "collapsed": true
   },
   "outputs": [],
   "source": [
    "y_score = fit.predict_proba(X_test)"
   ]
  },
  {
   "cell_type": "code",
   "execution_count": 14,
   "metadata": {
    "collapsed": true
   },
   "outputs": [],
   "source": [
    "# Compute ROC curve and ROC area for each class\n",
    "fpr = dict()\n",
    "tpr = dict()\n",
    "roc_auc = dict()\n",
    "for i in range(2):\n",
    "    fpr[i], tpr[i], _ = roc_curve(y_test, y_score[:, i])\n",
    "    roc_auc[i] = auc(fpr[i], tpr[i])"
   ]
  },
  {
   "cell_type": "code",
   "execution_count": 15,
   "metadata": {},
   "outputs": [
    {
     "data": {
      "image/png": "[encoded data removed]",
      "text/plain": [
       "<matplotlib.figure.Figure at 0x1374a8be0>"
      ]
     },
     "metadata": {},
     "output_type": "display_data"
    }
   ],
   "source": [
    "plt.figure()\n",
    "lw = 2\n",
    "plt.plot(fpr[1], tpr[1], color='darkorange',\n",
    "         lw=lw, label='ROC curve (area = %0.2f)' % roc_auc[1])\n",
    "plt.plot([0, 1], [0, 1], color='navy', lw=lw, linestyle='--')\n",
    "plt.xlim([0.0, 1.0])\n",
    "plt.ylim([0.0, 1.05])\n",
    "plt.xlabel('False Positive Rate')\n",
    "plt.ylabel('True Positive Rate')\n",
    "plt.title('ROC Curve for Multinomial Naive Bayes')\n",
    "plt.legend(loc=\"lower right\")\n",
    "plt.show()"
   ]
  },
  {
   "cell_type": "markdown",
   "metadata": {},
   "source": [
    "## Bernoulli Naive Bayes"
   ]
  },
  {
   "cell_type": "code",
   "execution_count": 16,
   "metadata": {
    "collapsed": true
   },
   "outputs": [],
   "source": [
    "from sklearn.naive_bayes import BernoulliNB"
   ]
  },
  {
   "cell_type": "code",
   "execution_count": 17,
   "metadata": {
    "collapsed": true
   },
   "outputs": [],
   "source": [
    "clf = BernoulliNB()\n",
    "fit = clf.fit(X_train_tf,y_train)\n",
    "y_pred = clf.predict(X_test)"
   ]
  },
  {
   "cell_type": "markdown",
   "metadata": {},
   "source": [
    "### Metrics"
   ]
  },
  {
   "cell_type": "code",
   "execution_count": 18,
   "metadata": {},
   "outputs": [
    {
     "name": "stdout",
     "output_type": "stream",
     "text": [
      "[[121929  35489]\n",
      " [ 34545 123756]]\n"
     ]
    }
   ],
   "source": [
    "print(confusion_matrix(y_test,y_pred))"
   ]
  },
  {
   "cell_type": "code",
   "execution_count": 19,
   "metadata": {},
   "outputs": [
    {
     "name": "stdout",
     "output_type": "stream",
     "text": [
      "             precision    recall  f1-score   support\n",
      "\n",
      "          0       0.78      0.77      0.78    157418\n",
      "          1       0.78      0.78      0.78    158301\n",
      "\n",
      "avg / total       0.78      0.78      0.78    315719\n",
      "\n"
     ]
    }
   ],
   "source": [
    "print(classification_report(y_test,y_pred))"
   ]
  },
  {
   "cell_type": "code",
   "execution_count": 20,
   "metadata": {
    "collapsed": true
   },
   "outputs": [],
   "source": [
    "y_score = fit.predict_proba(X_test)"
   ]
  },
  {
   "cell_type": "code",
   "execution_count": 21,
   "metadata": {
    "collapsed": true
   },
   "outputs": [],
   "source": [
    "# Compute ROC curve and ROC area for each class\n",
    "fpr = dict()\n",
    "tpr = dict()\n",
    "roc_auc = dict()\n",
    "for i in range(2):\n",
    "    fpr[i], tpr[i], _ = roc_curve(y_test, y_score[:, i])\n",
    "    roc_auc[i] = auc(fpr[i], tpr[i])"
   ]
  },
  {
   "cell_type": "code",
   "execution_count": 22,
   "metadata": {},
   "outputs": [
    {
     "data": {
      "image/png": "[encoded data removed]",
      "text/plain": [
       "<matplotlib.figure.Figure at 0x13c0af748>"
      ]
     },
     "metadata": {},
     "output_type": "display_data"
    }
   ],
   "source": [
    "plt.figure()\n",
    "lw = 2\n",
    "plt.plot(fpr[1], tpr[1], color='darkorange',\n",
    "         lw=lw, label='ROC curve (area = %0.2f)' % roc_auc[1])\n",
    "plt.plot([0, 1], [0, 1], color='navy', lw=lw, linestyle='--')\n",
    "plt.xlim([0.0, 1.0])\n",
    "plt.ylim([0.0, 1.05])\n",
    "plt.xlabel('False Positive Rate')\n",
    "plt.ylabel('True Positive Rate')\n",
    "plt.title('ROC Curve for Bernoulli Naive Bayes')\n",
    "plt.legend(loc=\"lower right\")\n",
    "plt.show()"
   ]
  },
  {
   "cell_type": "markdown",
   "metadata": {},
   "source": [
    "## Logistic Regression"
   ]
  },
  {
   "cell_type": "code",
   "execution_count": 23,
   "metadata": {
    "collapsed": true
   },
   "outputs": [],
   "source": [
    "from sklearn.linear_model import LogisticRegression"
   ]
  },
  {
   "cell_type": "code",
   "execution_count": 24,
   "metadata": {
    "collapsed": true
   },
   "outputs": [],
   "source": [
    "clf = LogisticRegression()\n",
    "fit = clf.fit(X_train_tf,y_train)\n",
    "y_pred = clf.predict(X_test)"
   ]
  },
  {
   "cell_type": "markdown",
   "metadata": {},
   "source": [
    "### Metrics"
   ]
  },
  {
   "cell_type": "code",
   "execution_count": 25,
   "metadata": {},
   "outputs": [
    {
     "name": "stdout",
     "output_type": "stream",
     "text": [
      "[[137062  20356]\n",
      " [ 46404 111897]]\n"
     ]
    }
   ],
   "source": [
    "print(confusion_matrix(y_test,y_pred))"
   ]
  },
  {
   "cell_type": "code",
   "execution_count": 26,
   "metadata": {},
   "outputs": [
    {
     "name": "stdout",
     "output_type": "stream",
     "text": [
      "             precision    recall  f1-score   support\n",
      "\n",
      "          0       0.75      0.87      0.80    157418\n",
      "          1       0.85      0.71      0.77    158301\n",
      "\n",
      "avg / total       0.80      0.79      0.79    315719\n",
      "\n"
     ]
    }
   ],
   "source": [
    "print(classification_report(y_test,y_pred))"
   ]
  },
  {
   "cell_type": "code",
   "execution_count": 27,
   "metadata": {
    "collapsed": true
   },
   "outputs": [],
   "source": [
    "y_score = fit.predict_proba(X_test)"
   ]
  },
  {
   "cell_type": "code",
   "execution_count": 28,
   "metadata": {
    "collapsed": true
   },
   "outputs": [],
   "source": [
    "# Compute ROC curve and ROC area for each class\n",
    "fpr = dict()\n",
    "tpr = dict()\n",
    "roc_auc = dict()\n",
    "for i in range(2):\n",
    "    fpr[i], tpr[i], _ = roc_curve(y_test, y_score[:, i])\n",
    "    roc_auc[i] = auc(fpr[i], tpr[i])"
   ]
  },
  {
   "cell_type": "code",
   "execution_count": 29,
   "metadata": {},
   "outputs": [
    {
     "data": {
      "image/png": "[encoded data removed]",
      "text/plain": [
       "<matplotlib.figure.Figure at 0x13831d080>"
      ]
     },
     "metadata": {},
     "output_type": "display_data"
    }
   ],
   "source": [
    "plt.figure()\n",
    "lw = 2\n",
    "plt.plot(fpr[1], tpr[1], color='darkorange',\n",
    "         lw=lw, label='ROC curve (area = %0.2f)' % roc_auc[1])\n",
    "plt.plot([0, 1], [0, 1], color='navy', lw=lw, linestyle='--')\n",
    "plt.xlim([0.0, 1.0])\n",
    "plt.ylim([0.0, 1.05])\n",
    "plt.xlabel('False Positive Rate')\n",
    "plt.ylabel('True Positive Rate')\n",
    "plt.title('ROC Curve for Logistic Regression')\n",
    "plt.legend(loc=\"lower right\")\n",
    "plt.show()"
   ]
  },
  {
   "cell_type": "markdown",
   "metadata": {},
   "source": [
    "## ADABOOST"
   ]
  },
  {
   "cell_type": "code",
   "execution_count": 30,
   "metadata": {
    "collapsed": true
   },
   "outputs": [],
   "source": [
    "from sklearn.ensemble import AdaBoostClassifier"
   ]
  },
  {
   "cell_type": "code",
   "execution_count": 31,
   "metadata": {
    "collapsed": true
   },
   "outputs": [],
   "source": [
    "clf = AdaBoostClassifier(n_estimators=100)\n",
    "fit = clf.fit(X_train_tf,y_train)\n",
    "y_pred = clf.predict(X_test) "
   ]
  },
  {
   "cell_type": "markdown",
   "metadata": {},
   "source": [
    "### Metrics"
   ]
  },
  {
   "cell_type": "code",
   "execution_count": 32,
   "metadata": {},
   "outputs": [
    {
     "name": "stdout",
     "output_type": "stream",
     "text": [
      "[[105892  51526]\n",
      " [ 37323 120978]]\n"
     ]
    }
   ],
   "source": [
    "print(confusion_matrix(y_test,y_pred))"
   ]
  },
  {
   "cell_type": "code",
   "execution_count": 33,
   "metadata": {},
   "outputs": [
    {
     "name": "stdout",
     "output_type": "stream",
     "text": [
      "             precision    recall  f1-score   support\n",
      "\n",
      "          0       0.74      0.67      0.70    157418\n",
      "          1       0.70      0.76      0.73    158301\n",
      "\n",
      "avg / total       0.72      0.72      0.72    315719\n",
      "\n"
     ]
    }
   ],
   "source": [
    "print(classification_report(y_test,y_pred))"
   ]
  },
  {
   "cell_type": "code",
   "execution_count": 34,
   "metadata": {
    "collapsed": true
   },
   "outputs": [],
   "source": [
    "y_score = fit.predict_proba(X_test)"
   ]
  },
  {
   "cell_type": "code",
   "execution_count": 35,
   "metadata": {
    "collapsed": true
   },
   "outputs": [],
   "source": [
    "# Compute ROC curve and ROC area for each class\n",
    "fpr = dict()\n",
    "tpr = dict()\n",
    "roc_auc = dict()\n",
    "for i in range(2):\n",
    "    fpr[i], tpr[i], _ = roc_curve(y_test, y_score[:, i])\n",
    "    roc_auc[i] = auc(fpr[i], tpr[i])"
   ]
  },
  {
   "cell_type": "code",
   "execution_count": 36,
   "metadata": {},
   "outputs": [
    {
     "data": {
      "image/png": "[encoded data removed]",
      "text/plain": [
       "<matplotlib.figure.Figure at 0x139b4a9b0>"
      ]
     },
     "metadata": {},
     "output_type": "display_data"
    }
   ],
   "source": [
    "plt.figure()\n",
    "lw = 2\n",
    "plt.plot(fpr[1], tpr[1], color='darkorange',\n",
    "         lw=lw, label='ROC curve (area = %0.2f)' % roc_auc[1])\n",
    "plt.plot([0, 1], [0, 1], color='navy', lw=lw, linestyle='--')\n",
    "plt.xlim([0.0, 1.0])\n",
    "plt.ylim([0.0, 1.05])\n",
    "plt.xlabel('False Positive Rate')\n",
    "plt.ylabel('True Positive Rate')\n",
    "plt.title('ROC Curve for ADABOOST')\n",
    "plt.legend(loc=\"lower right\")\n",
    "plt.show()"
   ]
  },
  {
   "cell_type": "markdown",
   "metadata": {},
   "source": [
    "## Exploratory Data Analysis"
   ]
  },
  {
   "cell_type": "code",
   "execution_count": 24,
   "metadata": {},
   "outputs": [
    {
     "name": "stdout",
     "output_type": "stream",
     "text": [
      "Tweet list length before cleaning: 79902\n",
      "[nltk_data] Downloading package stopwords to\n",
      "[nltk_data]     /Users/quinty/nltk_data...\n",
      "[nltk_data]   Package stopwords is already up-to-date!\n",
      "[nltk_data] Downloading package punkt to /Users/quinty/nltk_data...\n",
      "[nltk_data]   Package punkt is already up-to-date!\n",
      "Tweet list after cleaning: 46649\n",
      "1556\n",
      "2338\n",
      "3530\n",
      "3629\n",
      "2981\n",
      "3314\n",
      "4403\n",
      "6158\n",
      "8579\n",
      "9534\n",
      "627\n",
      "[('ReadyPlayerOne', 36092), ('I', 8430), ('movie', 6950), ('The', 4373), ('see', 3885), ('Ready', 3625), ('One', 3330), ('Player', 3239), ('Get', 3211), ('Spielberg', 3142), ('Steven', 2771), ('readyplayerone', 2624), ('tickets', 2476), ('Easter', 2365), ('book', 2125), ('review', 2012), ('weekend', 1828), ('film', 1786), ('Just', 1784), ('We', 1776), ('BlackPanther', 1761), ('time', 1659), ('Spielbergs', 1630), ('Weekend', 1581), ('fun', 1470), ('Acrimony', 1469), ('good', 1456), ('one', 1431), ('awesome', 1356), ('Im', 1347), ('Its', 1336), ('watch', 1328), ('like', 1327), ('eggs', 1236), ('saw', 1217), ('movies', 1210), ('A', 1205), ('Box', 1178), ('No', 1163), ('AQuietPlace', 1153), ('really', 1127), ('find', 1086), ('Office', 1052), ('great', 1027), ('theaters', 1025), ('references', 1006), ('Check', 992), ('seen', 985), ('culture', 977), ('know', 971), ('experience', 963), ('go', 957), ('See', 955), ('last', 941), ('IAMREADY', 927), ('This', 919), ('opening', 918), ('talk', 909), ('week', 906), ('pop', 903), ('love', 886), ('world', 885), ('much', 876), ('best', 876), ('If', 871), ('new', 871), ('It', 862), ('cinemas', 857), ('today', 853), ('office', 852), ('ready', 849), ('want', 844), ('latest', 842), ('Top', 830), ('Did', 823), ('million', 811), ('watching', 806), ('So', 806), ('celebrate', 801), ('VR', 784), ('How', 777), ('podcast', 765), ('got', 761), ('th', 756), ('box', 751), ('first', 723), ('March', 719), ('Blockers', 714), ('better', 711), ('loved', 710), ('think', 708), ('China', 708), ('NOW', 704), ('Ive', 699), ('StevenSpielberg', 699), ('amazing', 698), ('Ep', 698), ('episode', 697), ('real', 674), ('read', 663)]\n"
     ]
    }
   ],
   "source": [
    "tdf = pd.read_csv(\"tweetList.csv\",error_bad_lines=False, encoding='utf-8')\n",
    "print(\"Tweet list length before cleaning: \" + str(len(tdf.index)))\n",
    "cleaned_tweets = clean_tweets(tdf)\n",
    "print(\"Tweet list after cleaning: \" + str(len(cleaned_tweets.index)))\n",
    "apr10df = cleaned_tweets[cleaned_tweets.date.str.contains(\"Apr 10\") == True]\n",
    "apr9df = cleaned_tweets[cleaned_tweets.date.str.contains(\"Apr 09\") == True]\n",
    "apr8df = cleaned_tweets[cleaned_tweets.date.str.contains(\"Apr 08\") == True]\n",
    "apr7df = cleaned_tweets[cleaned_tweets.date.str.contains(\"Apr 07\") == True]\n",
    "apr6df = cleaned_tweets[cleaned_tweets.date.str.contains(\"Apr 06\") == True]\n",
    "apr5df = cleaned_tweets[cleaned_tweets.date.str.contains(\"Apr 05\") == True]\n",
    "apr4df = cleaned_tweets[cleaned_tweets.date.str.contains(\"Apr 04\") == True]\n",
    "apr3df = cleaned_tweets[cleaned_tweets.date.str.contains(\"Apr 03\") == True]\n",
    "apr2df = cleaned_tweets[cleaned_tweets.date.str.contains(\"Apr 02\") == True]\n",
    "apr1df = cleaned_tweets[cleaned_tweets.date.str.contains(\"Apr 01\") == True]\n",
    "mar31df = cleaned_tweets[cleaned_tweets.date.str.contains(\"Mar 31\") == True]\n",
    "print(len(apr10df.index))\n",
    "print(len(apr9df.index))\n",
    "print(len(apr8df.index))\n",
    "print(len(apr7df.index))\n",
    "print(len(apr6df.index))\n",
    "print(len(apr5df.index))\n",
    "print(len(apr4df.index))\n",
    "print(len(apr3df.index))\n",
    "print(len(apr2df.index))\n",
    "print(len(apr1df.index))\n",
    "print(len(mar31df.index))\n",
    "from collections import Counter\n",
    "print(Counter(\" \".join(cleaned_tweets[\"SentimentText\"]).split()).most_common(100))\n"
   ]
  },
  {
   "cell_type": "code",
   "execution_count": null,
   "metadata": {
    "collapsed": true
   },
   "outputs": [],
   "source": [
    "## Analysis of RPO Tweets"
   ]
  },
  {
   "cell_type": "code",
   "execution_count": 9,
   "metadata": {},
   "outputs": [],
   "source": [
    "RPOData = pd.read_csv(\"tweetList.csv\", error_bad_lines = False, encoding = 'latin')"
   ]
  },
  {
   "cell_type": "code",
   "execution_count": 10,
   "metadata": {},
   "outputs": [],
   "source": [
    "clean_RPO = clean_tweets2(RPOData)\n",
    "clean_RPO_Tweets = clean_RPO.tweet"
   ]
  },
  {
   "cell_type": "code",
   "execution_count": 22,
   "metadata": {},
   "outputs": [],
   "source": [
    "RPO_Test = vectorizer_test.transform(clean_RPO_Tweets)"
   ]
  },
  {
   "cell_type": "code",
   "execution_count": 23,
   "metadata": {
    "collapsed": true
   },
   "outputs": [],
   "source": [
    "from sklearn.linear_model import LogisticRegression"
   ]
  },
  {
   "cell_type": "code",
   "execution_count": 24,
   "metadata": {
    "collapsed": true
   },
   "outputs": [],
   "source": [
    "clf = LogisticRegression()\n",
    "clf.fit(X_train_tf,y_train)\n",
    "pred_RPO = clf.predict(RPO_Test)"
   ]
  },
  {
   "cell_type": "code",
   "execution_count": 25,
   "metadata": {},
   "outputs": [
    {
     "name": "stdout",
     "output_type": "stream",
     "text": [
      "Total Tweets:  46649\n",
      "Number of positive tweets:  33873\n",
      "Number of negative tweets:  12776\n"
     ]
    }
   ],
   "source": [
    "zeros = len(pred_RPO) - np.count_nonzero(pred_RPO)\n",
    "print(\"Total Tweets: \", len(pred_RPO))\n",
    "print(\"Number of positive tweets: \", np.count_nonzero(pred_RPO))\n",
    "print(\"Number of negative tweets: \", zeros)"
   ]
  },
  {
   "cell_type": "code",
   "execution_count": 26,
   "metadata": {
    "collapsed": true
   },
   "outputs": [],
   "source": [
    "predDF = pd.DataFrame(pred_RPO)\n",
    "test3 = pd.concat([clean_RPO.reset_index(drop=True), predDF], axis=1)\n",
    "test3.columns = ['date','tweet', 'sentiment']\n",
    "test3.to_csv(\"RPOSentiments.csv\")"
   ]
  },
  {
   "cell_type": "code",
   "execution_count": 27,
   "metadata": {
    "collapsed": true
   },
   "outputs": [],
   "source": [
    "dates = [\"Apr 10\", \"Apr 09\", \"Apr 08\", \"Apr 07\", \"Apr 06\", \"Apr 05\", \"Apr 04\", \"Apr 03\", \"Apr 02\", \"Apr 01\", \"Mar 31\"]\n",
    "negTweets = []\n",
    "posTweets = []\n",
    "dates.reverse()\n",
    "for i in range(len(dates)):\n",
    "    date = dates[i]\n",
    "    tempDF = test3[test3.date.str.contains(date) == True]\n",
    "    negTweets.append(len(tempDF[tempDF.sentiment == 0]))\n",
    "    posTweets.append(len(tempDF[tempDF.sentiment == 1]))"
   ]
  },
  {
   "cell_type": "code",
   "execution_count": 28,
   "metadata": {},
   "outputs": [
    {
     "data": {
      "image/png": "[encoded data removed]",
      "text/plain": [
       "<matplotlib.figure.Figure at 0x1a2ec6da58>"
      ]
     },
     "metadata": {},
     "output_type": "display_data"
    }
   ],
   "source": [
    "x = [1,2,3,4,5,6,7,8,9,10,11]\n",
    "plt.plot(x, negTweets, label = 'Negative')\n",
    "plt.plot(x,posTweets, label = 'Positive')\n",
    "plt.xticks(x, dates, rotation='vertical')\n",
    "plt.legend(bbox_to_anchor=(1.05, 1), loc=2, borderaxespad=0.)\n",
    "plt.xlabel('Date')\n",
    "plt.ylabel('Number of Tweets')\n",
    "plt.title(r'Number of +/- Tweets Per Day')\n",
    "plt.show()\n"
   ]
  },
  {
   "cell_type": "code",
   "execution_count": null,
   "metadata": {
    "collapsed": true
   },
   "outputs": [],
   "source": []
  }
 ],
 "metadata": {
  "kernelspec": {
   "display_name": "Python 3",
   "language": "python",
   "name": "python3"
  },
  "language_info": {
   "codemirror_mode": {
    "name": "ipython",
    "version": 3
   },
   "file_extension": ".py",
   "mimetype": "text/x-python",
   "name": "python",
   "nbconvert_exporter": "python",
   "pygments_lexer": "ipython3",
   "version": "3.6.3"
  }
 },
 "nbformat": 4,
 "nbformat_minor": 2
}
